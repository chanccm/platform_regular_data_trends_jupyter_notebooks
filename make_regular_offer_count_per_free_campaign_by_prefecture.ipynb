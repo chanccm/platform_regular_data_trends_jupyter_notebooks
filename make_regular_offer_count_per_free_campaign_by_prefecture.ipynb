{
 "cells": [
  {
   "cell_type": "markdown",
   "metadata": {},
   "source": [
    "- 都道府県別のキャンペーンあたりの平均応募数 - クオーター毎に"
   ]
  },
  {
   "cell_type": "markdown",
   "metadata": {},
   "source": [
    "- this one can actually be done on Redash..."
   ]
  },
  {
   "cell_type": "code",
   "execution_count": 1,
   "metadata": {},
   "outputs": [],
   "source": [
    "import pandas as pd\n",
    "import numpy as np"
   ]
  },
  {
   "cell_type": "code",
   "execution_count": 2,
   "metadata": {},
   "outputs": [],
   "source": [
    "from collections import Counter"
   ]
  },
  {
   "cell_type": "code",
   "execution_count": 3,
   "metadata": {},
   "outputs": [],
   "source": [
    "import japanmap as jm"
   ]
  },
  {
   "cell_type": "code",
   "execution_count": 4,
   "metadata": {},
   "outputs": [],
   "source": [
    "import matplotlib.pyplot as plt\n",
    "import seaborn as sns"
   ]
  },
  {
   "cell_type": "code",
   "execution_count": 5,
   "metadata": {},
   "outputs": [],
   "source": [
    "font = {\"family\":\"IPAexGothic\"}\n",
    "plt.rc('font', **font)"
   ]
  },
  {
   "cell_type": "markdown",
   "metadata": {},
   "source": [
    "# data: all offers <a name=\"all_offers\"></a>"
   ]
  },
  {
   "cell_type": "markdown",
   "metadata": {},
   "source": [
    "- 20201006: update to include data only in Q3 "
   ]
  },
  {
   "cell_type": "code",
   "execution_count": 6,
   "metadata": {},
   "outputs": [],
   "source": [
    "# select offers.id as offer_id, offers.campaign_id, offers.user_influencer_id, \n",
    "# date_format(offers.created_at, '%Y-%m-%d %H:%i:%s') as created_at,\n",
    "# campaigns.pref, campaigns.genre_id\n",
    "# from offers\n",
    "# left join campaigns\n",
    "# on offers.campaign_id = campaigns.id\n",
    "# where (pref is not null) and (offers.created_at >= '2020-07-01') and (offers.created_at < '2020-10-01')\n",
    "# and (campaigns.project_type = 10)"
   ]
  },
  {
   "cell_type": "code",
   "execution_count": 7,
   "metadata": {},
   "outputs": [],
   "source": [
    "# df_all_offers = pd.read_csv('1087468_2020_10_06_all_offers.csv')\n",
    "df_all_offers = pd.read_csv('New_Query_2020_10_23_offers_3q.csv')"
   ]
  },
  {
   "cell_type": "code",
   "execution_count": 8,
   "metadata": {},
   "outputs": [],
   "source": [
    "df_all_offers['created_at'] = pd.to_datetime(df_all_offers['created_at'])"
   ]
  },
  {
   "cell_type": "code",
   "execution_count": 9,
   "metadata": {},
   "outputs": [
    {
     "data": {
      "text/html": [
       "<div>\n",
       "<style scoped>\n",
       "    .dataframe tbody tr th:only-of-type {\n",
       "        vertical-align: middle;\n",
       "    }\n",
       "\n",
       "    .dataframe tbody tr th {\n",
       "        vertical-align: top;\n",
       "    }\n",
       "\n",
       "    .dataframe thead th {\n",
       "        text-align: right;\n",
       "    }\n",
       "</style>\n",
       "<table border=\"1\" class=\"dataframe\">\n",
       "  <thead>\n",
       "    <tr style=\"text-align: right;\">\n",
       "      <th></th>\n",
       "      <th>offer_id</th>\n",
       "      <th>campaign_id</th>\n",
       "      <th>user_influencer_id</th>\n",
       "      <th>created_at</th>\n",
       "      <th>pref</th>\n",
       "      <th>genre_id</th>\n",
       "    </tr>\n",
       "  </thead>\n",
       "  <tbody>\n",
       "    <tr>\n",
       "      <td>0</td>\n",
       "      <td>172049</td>\n",
       "      <td>158</td>\n",
       "      <td>10888</td>\n",
       "      <td>2020-07-02 14:53:48</td>\n",
       "      <td>13</td>\n",
       "      <td>1.0</td>\n",
       "    </tr>\n",
       "    <tr>\n",
       "      <td>1</td>\n",
       "      <td>176192</td>\n",
       "      <td>158</td>\n",
       "      <td>10350</td>\n",
       "      <td>2020-07-06 21:39:01</td>\n",
       "      <td>13</td>\n",
       "      <td>1.0</td>\n",
       "    </tr>\n",
       "  </tbody>\n",
       "</table>\n",
       "</div>"
      ],
      "text/plain": [
       "   offer_id  campaign_id  user_influencer_id          created_at  pref  \\\n",
       "0    172049          158               10888 2020-07-02 14:53:48    13   \n",
       "1    176192          158               10350 2020-07-06 21:39:01    13   \n",
       "\n",
       "   genre_id  \n",
       "0       1.0  \n",
       "1       1.0  "
      ]
     },
     "execution_count": 9,
     "metadata": {},
     "output_type": "execute_result"
    }
   ],
   "source": [
    "df_all_offers.head(2)"
   ]
  },
  {
   "cell_type": "code",
   "execution_count": 10,
   "metadata": {},
   "outputs": [
    {
     "data": {
      "text/plain": [
       "38372"
      ]
     },
     "execution_count": 10,
     "metadata": {},
     "output_type": "execute_result"
    }
   ],
   "source": [
    "len(df_all_offers)"
   ]
  },
  {
   "cell_type": "code",
   "execution_count": 11,
   "metadata": {},
   "outputs": [
    {
     "data": {
      "text/plain": [
       "Timestamp('2020-09-30 23:56:23')"
      ]
     },
     "execution_count": 11,
     "metadata": {},
     "output_type": "execute_result"
    }
   ],
   "source": [
    "max(df_all_offers.created_at)"
   ]
  },
  {
   "cell_type": "code",
   "execution_count": 12,
   "metadata": {},
   "outputs": [
    {
     "data": {
      "text/plain": [
       "Timestamp('2020-07-01 00:03:08')"
      ]
     },
     "execution_count": 12,
     "metadata": {},
     "output_type": "execute_result"
    }
   ],
   "source": [
    "min(df_all_offers.created_at)"
   ]
  },
  {
   "cell_type": "markdown",
   "metadata": {},
   "source": [
    "### pref names, genre_id maps"
   ]
  },
  {
   "cell_type": "code",
   "execution_count": 13,
   "metadata": {},
   "outputs": [],
   "source": [
    "map_pref = {\n",
    "1: '1: 北海道',\n",
    "2: '2: 青森県',\n",
    "3: '3: 岩手県',\n",
    "4: '4: 宮城県',\n",
    "5: '5: 秋田県',\n",
    "6: '6: 山形県',\n",
    "7: '7: 福島県',\n",
    "8: '8: 茨城県',\n",
    "9: '9: 栃木県',\n",
    "10: '10: 群馬県',\n",
    "11: '11: 埼玉県',\n",
    "12: '12: 千葉県',\n",
    "13: '13: 東京都',\n",
    "14: '14: 神奈川県',\n",
    "15: '15: 新潟県',\n",
    "16: '16: 富山県',\n",
    "17: '17: 石川県',\n",
    "18: '18: 福井県',\n",
    "19: '19: 山梨県',\n",
    "20: '20: 長野県',\n",
    "21: '21: 岐阜県',\n",
    "22: '22: 静岡県',\n",
    "23: '23: 愛知県',\n",
    "24: '24: 三重県',\n",
    "25: '25: 滋賀県',\n",
    "26: '26: 京都府',\n",
    "27: '27: 大阪府',\n",
    "28: '28: 兵庫県',\n",
    "29: '29: 奈良県',\n",
    "30: '30: 和歌山県',\n",
    "31: '31: 鳥取県',\n",
    "32: '32: 島根県',\n",
    "33: '33: 岡山県',\n",
    "34: '34: 広島県',\n",
    "35: '35: 山口県',\n",
    "36: '36: 徳島県',\n",
    "37: '37: 香川県',\n",
    "38: '38: 愛媛県',\n",
    "39: '39: 高知県',\n",
    "40: '40: 福岡県',\n",
    "41: '41: 佐賀県',\n",
    "42: '42: 長崎県',\n",
    "43: '43: 熊本県',\n",
    "44: '44: 大分県',\n",
    "45: '45: 宮崎県',\n",
    "46: '46: 鹿児島',\n",
    "47: '47: 沖縄県'\n",
    "}"
   ]
  },
  {
   "cell_type": "code",
   "execution_count": 57,
   "metadata": {},
   "outputs": [],
   "source": [
    "map_genre = { 1: '1: グルメ',\n",
    "            2: '2: トラベル',\n",
    "            3: '3: ビューティー',\n",
    "            4: '4: レジャー'}"
   ]
  },
  {
   "cell_type": "code",
   "execution_count": 62,
   "metadata": {},
   "outputs": [],
   "source": [
    "map_genre2 = { 1: 'gourmet',\n",
    "            2: 'travel',\n",
    "            3: 'beauty',\n",
    "            4: 'leisure'}"
   ]
  },
  {
   "cell_type": "code",
   "execution_count": 14,
   "metadata": {},
   "outputs": [
    {
     "data": {
      "text/html": [
       "<div>\n",
       "<style scoped>\n",
       "    .dataframe tbody tr th:only-of-type {\n",
       "        vertical-align: middle;\n",
       "    }\n",
       "\n",
       "    .dataframe tbody tr th {\n",
       "        vertical-align: top;\n",
       "    }\n",
       "\n",
       "    .dataframe thead th {\n",
       "        text-align: right;\n",
       "    }\n",
       "</style>\n",
       "<table border=\"1\" class=\"dataframe\">\n",
       "  <thead>\n",
       "    <tr style=\"text-align: right;\">\n",
       "      <th></th>\n",
       "      <th>offer_id</th>\n",
       "      <th>campaign_id</th>\n",
       "      <th>user_influencer_id</th>\n",
       "      <th>created_at</th>\n",
       "      <th>pref</th>\n",
       "      <th>genre_id</th>\n",
       "    </tr>\n",
       "  </thead>\n",
       "  <tbody>\n",
       "    <tr>\n",
       "      <td>0</td>\n",
       "      <td>172049</td>\n",
       "      <td>158</td>\n",
       "      <td>10888</td>\n",
       "      <td>2020-07-02 14:53:48</td>\n",
       "      <td>13</td>\n",
       "      <td>1.0</td>\n",
       "    </tr>\n",
       "    <tr>\n",
       "      <td>1</td>\n",
       "      <td>176192</td>\n",
       "      <td>158</td>\n",
       "      <td>10350</td>\n",
       "      <td>2020-07-06 21:39:01</td>\n",
       "      <td>13</td>\n",
       "      <td>1.0</td>\n",
       "    </tr>\n",
       "  </tbody>\n",
       "</table>\n",
       "</div>"
      ],
      "text/plain": [
       "   offer_id  campaign_id  user_influencer_id          created_at  pref  \\\n",
       "0    172049          158               10888 2020-07-02 14:53:48    13   \n",
       "1    176192          158               10350 2020-07-06 21:39:01    13   \n",
       "\n",
       "   genre_id  \n",
       "0       1.0  \n",
       "1       1.0  "
      ]
     },
     "execution_count": 14,
     "metadata": {},
     "output_type": "execute_result"
    }
   ],
   "source": [
    "df_all_offers.head(2)"
   ]
  },
  {
   "cell_type": "markdown",
   "metadata": {},
   "source": [
    "# Functions to automate getting df and plotting "
   ]
  },
  {
   "cell_type": "code",
   "execution_count": 63,
   "metadata": {},
   "outputs": [],
   "source": [
    "def get_df_offers_pref(genre):\n",
    "    \n",
    "    df_genre = df_all_offers[df_all_offers.genre_id == genre]\n",
    "    \n",
    "    df_genre_pref = (df_genre.groupby(['pref','campaign_id'])['offer_id'].size()\n",
    "                            .reset_index()\n",
    "                            .rename(columns = {'offer_id':'offer_count'})\n",
    "                    )\n",
    "    \n",
    "    column_name = 'average_offer_count_'+ map_genre2[genre]\n",
    "    df_genre_pref_ave_offer = (df_genre_pref.groupby('pref')['offer_count'].mean()\n",
    "                               .reset_index()\n",
    "                               .rename(columns = {'offer_count':column_name})\n",
    "                              )\n",
    "    \n",
    "#     df_genre_pref_ave_offer['pref_kanji'] = df_genre_pref_ave_offer['pref'].map(map_pref)\n",
    "\n",
    "    df_genre_pref_ave_offer.set_index('pref', inplace = True)\n",
    "    \n",
    "    return (df_genre_pref_ave_offer)\n",
    "    "
   ]
  },
  {
   "cell_type": "code",
   "execution_count": 64,
   "metadata": {},
   "outputs": [
    {
     "data": {
      "text/html": [
       "<div>\n",
       "<style scoped>\n",
       "    .dataframe tbody tr th:only-of-type {\n",
       "        vertical-align: middle;\n",
       "    }\n",
       "\n",
       "    .dataframe tbody tr th {\n",
       "        vertical-align: top;\n",
       "    }\n",
       "\n",
       "    .dataframe thead th {\n",
       "        text-align: right;\n",
       "    }\n",
       "</style>\n",
       "<table border=\"1\" class=\"dataframe\">\n",
       "  <thead>\n",
       "    <tr style=\"text-align: right;\">\n",
       "      <th></th>\n",
       "      <th>average_offer_count_gourmet</th>\n",
       "    </tr>\n",
       "    <tr>\n",
       "      <th>pref</th>\n",
       "      <th></th>\n",
       "    </tr>\n",
       "  </thead>\n",
       "  <tbody>\n",
       "    <tr>\n",
       "      <td>1</td>\n",
       "      <td>10.000000</td>\n",
       "    </tr>\n",
       "    <tr>\n",
       "      <td>4</td>\n",
       "      <td>4.000000</td>\n",
       "    </tr>\n",
       "    <tr>\n",
       "      <td>9</td>\n",
       "      <td>2.500000</td>\n",
       "    </tr>\n",
       "    <tr>\n",
       "      <td>10</td>\n",
       "      <td>10.000000</td>\n",
       "    </tr>\n",
       "    <tr>\n",
       "      <td>11</td>\n",
       "      <td>19.571429</td>\n",
       "    </tr>\n",
       "  </tbody>\n",
       "</table>\n",
       "</div>"
      ],
      "text/plain": [
       "      average_offer_count_gourmet\n",
       "pref                             \n",
       "1                       10.000000\n",
       "4                        4.000000\n",
       "9                        2.500000\n",
       "10                      10.000000\n",
       "11                      19.571429"
      ]
     },
     "execution_count": 64,
     "metadata": {},
     "output_type": "execute_result"
    }
   ],
   "source": [
    "get_df_offers_pref(1).head()"
   ]
  },
  {
   "cell_type": "code",
   "execution_count": 38,
   "metadata": {},
   "outputs": [],
   "source": [
    "# def plot_offers_pref(genre):\n",
    "    \n",
    "#     df_offers = get_df_offers_pref(genre)\n",
    "    \n",
    "#     ind = np.arange(len(df_offers))\n",
    "#     width = 0.4\n",
    "\n",
    "#     fig, ax1 = plt.subplots(figsize=(18, 6))\n",
    "\n",
    "#     ax1.bar(ind, \n",
    "#             df_offers['average_offer_count'],\n",
    "#             width = width,\n",
    "#             align='edge',\n",
    "#            label = 'モニター型1CPあたりの平均応募数', color = 'lightsalmon', alpha = 0.8)\n",
    "\n",
    "# #     ax1.bar(ind+width, \n",
    "# #             df_offers['average_offer_count_paid'],\n",
    "# #             width = width,\n",
    "# #             align='edge',\n",
    "# #            label = '投稿報酬型1CPあたりの平均応募数', color = 'gold', alpha = 0.8)\n",
    "\n",
    "#     ax1.legend(bbox_to_anchor=(1,1), loc=\"upper right\", fontsize = 15)\n",
    "\n",
    "#     plt.xlim(-0.5,len(df_offers))\n",
    "#     ax1.set_xticks(ind + width)\n",
    "#     ax1.set_xticklabels(df_offers['pref_kanji'], rotation = 90,\n",
    "#                           ha = 'center', fontsize = 15)\n",
    "\n",
    "#     plt.yticks(fontsize = 14)\n",
    "#     ax1.set_ylabel('1CPあたりの平均オファー数', fontsize = 18, labelpad = 5)\n",
    "\n",
    "#     return()"
   ]
  },
  {
   "cell_type": "code",
   "execution_count": 47,
   "metadata": {},
   "outputs": [],
   "source": [
    "# plot_offers_pref(1)"
   ]
  },
  {
   "cell_type": "markdown",
   "metadata": {},
   "source": [
    "# plotting"
   ]
  },
  {
   "cell_type": "code",
   "execution_count": 65,
   "metadata": {},
   "outputs": [],
   "source": [
    "df_gourmet = get_df_offers_pref(1)\n",
    "df_beauty = get_df_offers_pref(3)\n",
    "df_leisure = get_df_offers_pref(4)\n",
    "\n",
    "# to make sure all 3 graphs have same x-axis and therefore can share the same x-axis\n",
    "df_offers_per_campaign_by_pref_free_average = pd.concat([df_gourmet,\n",
    "                                                         df_beauty,\n",
    "                                                         df_leisure],\n",
    "                                                         axis=1, sort=False)\n",
    "\n",
    "df_offers_per_campaign_by_pref_free_average['pref_kanji'] = (df_offers_per_campaign_by_pref_free_average.index\n",
    "                                                            .map(map_pref))"
   ]
  },
  {
   "cell_type": "code",
   "execution_count": 66,
   "metadata": {},
   "outputs": [
    {
     "data": {
      "text/html": [
       "<div>\n",
       "<style scoped>\n",
       "    .dataframe tbody tr th:only-of-type {\n",
       "        vertical-align: middle;\n",
       "    }\n",
       "\n",
       "    .dataframe tbody tr th {\n",
       "        vertical-align: top;\n",
       "    }\n",
       "\n",
       "    .dataframe thead th {\n",
       "        text-align: right;\n",
       "    }\n",
       "</style>\n",
       "<table border=\"1\" class=\"dataframe\">\n",
       "  <thead>\n",
       "    <tr style=\"text-align: right;\">\n",
       "      <th></th>\n",
       "      <th>average_offer_count_gourmet</th>\n",
       "      <th>average_offer_count_beauty</th>\n",
       "      <th>average_offer_count_leisure</th>\n",
       "      <th>pref_kanji</th>\n",
       "    </tr>\n",
       "    <tr>\n",
       "      <th>pref</th>\n",
       "      <th></th>\n",
       "      <th></th>\n",
       "      <th></th>\n",
       "      <th></th>\n",
       "    </tr>\n",
       "  </thead>\n",
       "  <tbody>\n",
       "    <tr>\n",
       "      <td>1</td>\n",
       "      <td>10.0</td>\n",
       "      <td>4.800000</td>\n",
       "      <td>1.0</td>\n",
       "      <td>1: 北海道</td>\n",
       "    </tr>\n",
       "    <tr>\n",
       "      <td>4</td>\n",
       "      <td>4.0</td>\n",
       "      <td>5.333333</td>\n",
       "      <td>3.0</td>\n",
       "      <td>4: 宮城県</td>\n",
       "    </tr>\n",
       "    <tr>\n",
       "      <td>8</td>\n",
       "      <td>NaN</td>\n",
       "      <td>3.000000</td>\n",
       "      <td>NaN</td>\n",
       "      <td>8: 茨城県</td>\n",
       "    </tr>\n",
       "    <tr>\n",
       "      <td>9</td>\n",
       "      <td>2.5</td>\n",
       "      <td>3.500000</td>\n",
       "      <td>NaN</td>\n",
       "      <td>9: 栃木県</td>\n",
       "    </tr>\n",
       "    <tr>\n",
       "      <td>10</td>\n",
       "      <td>10.0</td>\n",
       "      <td>5.500000</td>\n",
       "      <td>NaN</td>\n",
       "      <td>10: 群馬県</td>\n",
       "    </tr>\n",
       "  </tbody>\n",
       "</table>\n",
       "</div>"
      ],
      "text/plain": [
       "      average_offer_count_gourmet  average_offer_count_beauty  \\\n",
       "pref                                                            \n",
       "1                            10.0                    4.800000   \n",
       "4                             4.0                    5.333333   \n",
       "8                             NaN                    3.000000   \n",
       "9                             2.5                    3.500000   \n",
       "10                           10.0                    5.500000   \n",
       "\n",
       "      average_offer_count_leisure pref_kanji  \n",
       "pref                                          \n",
       "1                             1.0     1: 北海道  \n",
       "4                             3.0     4: 宮城県  \n",
       "8                             NaN     8: 茨城県  \n",
       "9                             NaN     9: 栃木県  \n",
       "10                            NaN    10: 群馬県  "
      ]
     },
     "execution_count": 66,
     "metadata": {},
     "output_type": "execute_result"
    }
   ],
   "source": [
    "df_offers_per_campaign_by_pref_free_average.head()"
   ]
  },
  {
   "cell_type": "code",
   "execution_count": 67,
   "metadata": {},
   "outputs": [
    {
     "data": {
      "image/png": "[encoded data removed]",
      "text/plain": [
       "<Figure size 1296x864 with 3 Axes>"
      ]
     },
     "metadata": {
      "needs_background": "light"
     },
     "output_type": "display_data"
    }
   ],
   "source": [
    "fig, axs = plt.subplots(3, figsize=(18,12))\n",
    "plt.subplots_adjust(hspace = 0.1)\n",
    "axs[0].bar(df_offers_per_campaign_by_pref_free_average['pref_kanji'], \n",
    "        df_offers_per_campaign_by_pref_free_average['average_offer_count_gourmet'], \n",
    "       label = 'グルメ', color = 'cyan')\n",
    "axs[0].legend(fontsize = 16)\n",
    "axs[0].set_yticklabels(axs[0].get_yticks(), fontsize = 13)\n",
    "axs[0].set_xticklabels(df_offers_per_campaign_by_pref_free_average.index,\n",
    "                      ha = 'center', fontsize = 15)\n",
    "\n",
    "axs[1].bar(df_offers_per_campaign_by_pref_free_average['pref_kanji'], \n",
    "        df_offers_per_campaign_by_pref_free_average['average_offer_count_beauty'], \n",
    "       label = 'ビューティー', color = 'darkmagenta')\n",
    "axs[1].legend(fontsize = 16)\n",
    "axs[1].set_yticklabels(axs[1].get_yticks(), fontsize = 13)\n",
    "axs[1].set_xticklabels(df_offers_per_campaign_by_pref_free_average.index, \n",
    "                       ha = 'center', fontsize = 15)\n",
    "\n",
    "axs[2].bar(df_offers_per_campaign_by_pref_free_average['pref_kanji'], \n",
    "        df_offers_per_campaign_by_pref_free_average['average_offer_count_leisure'], \n",
    "       label = 'レジャー', color = 'gold')\n",
    "axs[2].legend(fontsize = 16)\n",
    "axs[2].set_yticklabels(axs[2].get_yticks(), fontsize = 13)\n",
    "axs[2].set_xticklabels(df_offers_per_campaign_by_pref_free_average['pref_kanji'], rotation = 90,\n",
    "                      ha = 'center', fontsize = 16)\n",
    "\n",
    "plt.show()"
   ]
  },
  {
   "cell_type": "code",
   "execution_count": null,
   "metadata": {},
   "outputs": [],
   "source": []
  },
  {
   "cell_type": "code",
   "execution_count": null,
   "metadata": {},
   "outputs": [],
   "source": []
  },
  {
   "cell_type": "code",
   "execution_count": null,
   "metadata": {},
   "outputs": [],
   "source": []
  },
  {
   "cell_type": "code",
   "execution_count": null,
   "metadata": {},
   "outputs": [],
   "source": []
  },
  {
   "cell_type": "code",
   "execution_count": null,
   "metadata": {},
   "outputs": [],
   "source": []
  },
  {
   "cell_type": "code",
   "execution_count": null,
   "metadata": {},
   "outputs": [],
   "source": []
  },
  {
   "cell_type": "markdown",
   "metadata": {},
   "source": [
    "# genre 1 : グルメ"
   ]
  },
  {
   "cell_type": "code",
   "execution_count": null,
   "metadata": {},
   "outputs": [],
   "source": []
  },
  {
   "cell_type": "code",
   "execution_count": null,
   "metadata": {},
   "outputs": [],
   "source": []
  },
  {
   "cell_type": "code",
   "execution_count": null,
   "metadata": {},
   "outputs": [],
   "source": []
  },
  {
   "cell_type": "markdown",
   "metadata": {},
   "source": [
    "# genre 3: ビューティー"
   ]
  },
  {
   "cell_type": "code",
   "execution_count": null,
   "metadata": {},
   "outputs": [],
   "source": []
  },
  {
   "cell_type": "code",
   "execution_count": null,
   "metadata": {},
   "outputs": [],
   "source": []
  },
  {
   "cell_type": "code",
   "execution_count": null,
   "metadata": {},
   "outputs": [],
   "source": []
  },
  {
   "cell_type": "code",
   "execution_count": null,
   "metadata": {},
   "outputs": [],
   "source": []
  },
  {
   "cell_type": "code",
   "execution_count": null,
   "metadata": {},
   "outputs": [],
   "source": []
  },
  {
   "cell_type": "code",
   "execution_count": null,
   "metadata": {},
   "outputs": [],
   "source": []
  },
  {
   "cell_type": "code",
   "execution_count": null,
   "metadata": {},
   "outputs": [],
   "source": []
  }
 ],
 "metadata": {
  "kernelspec": {
   "display_name": "generalenvKernel",
   "language": "python",
   "name": "generalenvkernel"
  },
  "language_info": {
   "codemirror_mode": {
    "name": "ipython",
    "version": 3
   },
   "file_extension": ".py",
   "mimetype": "text/x-python",
   "name": "python",
   "nbconvert_exporter": "python",
   "pygments_lexer": "ipython3",
   "version": "3.7.1"
  }
 },
 "nbformat": 4,
 "nbformat_minor": 2
}
