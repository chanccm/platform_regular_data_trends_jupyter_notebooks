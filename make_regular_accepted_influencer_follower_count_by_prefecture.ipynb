{
 "cells": [
  {
   "cell_type": "markdown",
   "metadata": {},
   "source": [
    "# Table of contents\n",
    "\n",
    "1. [offer data, only accepted ones](#acc_offer_data)\n",
    "2. [Instagram follower count](#follower_count)\n",
    "  "
   ]
  },
  {
   "cell_type": "markdown",
   "metadata": {},
   "source": [
    "- 都道府県別の採用されたインフルエンサーの平均フォロワー数 - クオーター毎に"
   ]
  },
  {
   "cell_type": "markdown",
   "metadata": {},
   "source": [
    "- copied from 'offer_count_accepted_influencer_follower_count_by_prefecture.ipynb'"
   ]
  },
  {
   "cell_type": "code",
   "execution_count": 1,
   "metadata": {},
   "outputs": [],
   "source": [
    "import pandas as pd\n",
    "import numpy as np"
   ]
  },
  {
   "cell_type": "code",
   "execution_count": 2,
   "metadata": {},
   "outputs": [],
   "source": [
    "from collections import Counter"
   ]
  },
  {
   "cell_type": "code",
   "execution_count": 3,
   "metadata": {},
   "outputs": [],
   "source": [
    "# import japanmap"
   ]
  },
  {
   "cell_type": "code",
   "execution_count": 4,
   "metadata": {},
   "outputs": [],
   "source": [
    "import matplotlib.pyplot as plt\n",
    "# import seaborn as sns"
   ]
  },
  {
   "cell_type": "code",
   "execution_count": 5,
   "metadata": {},
   "outputs": [],
   "source": [
    "font = {\"family\":\"IPAexGothic\"}\n",
    "plt.rc('font', **font)"
   ]
  },
  {
   "cell_type": "code",
   "execution_count": 6,
   "metadata": {},
   "outputs": [],
   "source": [
    "map_pref = {\n",
    "1: '北海道',\n",
    "2: '青森県',\n",
    "3: '岩手県',\n",
    "4: '宮城県',\n",
    "5: '秋田県',\n",
    "6: '山形県',\n",
    "7: '福島県',\n",
    "8: '茨城県',\n",
    "9: '栃木県',\n",
    "10: '群馬県',\n",
    "11: '埼玉県',\n",
    "12: '千葉県',\n",
    "13: '東京都',\n",
    "14: '神奈川県',\n",
    "15: '新潟県',\n",
    "16: '富山県',\n",
    "17: '石川県',\n",
    "18: '福井県',\n",
    "19: '山梨県',\n",
    "20: '長野県',\n",
    "21: '岐阜県',\n",
    "22: '静岡県',\n",
    "23: '愛知県',\n",
    "24: '三重県',\n",
    "25: '滋賀県',\n",
    "26: '京都府',\n",
    "27: '大阪府',\n",
    "28: '兵庫県',\n",
    "29: '奈良県',\n",
    "30: '和歌山県',\n",
    "31: '鳥取県',\n",
    "32: '島根県',\n",
    "33: '岡山県',\n",
    "34: '広島県',\n",
    "35: '山口県',\n",
    "36: '徳島県',\n",
    "37: '香川県',\n",
    "38: '愛媛県',\n",
    "39: '高知県',\n",
    "40: '福岡県',\n",
    "41: '佐賀県',\n",
    "42: '長崎県',\n",
    "43: '熊本県',\n",
    "44: '大分県',\n",
    "45: '宮崎県',\n",
    "46: '鹿児島',\n",
    "47: '沖縄県'\n",
    "}"
   ]
  },
  {
   "cell_type": "code",
   "execution_count": 7,
   "metadata": {},
   "outputs": [],
   "source": [
    "map_pref2 = {\n",
    "1: '1: 北海道',\n",
    "2: '2: 青森県',\n",
    "3: '3: 岩手県',\n",
    "4: '4: 宮城県',\n",
    "5: '5: 秋田県',\n",
    "6: '6: 山形県',\n",
    "7: '7: 福島県',\n",
    "8: '8: 茨城県',\n",
    "9: '9: 栃木県',\n",
    "10: '10: 群馬県',\n",
    "11: '11: 埼玉県',\n",
    "12: '12: 千葉県',\n",
    "13: '13: 東京都',\n",
    "14: '14: 神奈川県',\n",
    "15: '15: 新潟県',\n",
    "16: '16: 富山県',\n",
    "17: '17: 石川県',\n",
    "18: '18: 福井県',\n",
    "19: '19: 山梨県',\n",
    "20: '20: 長野県',\n",
    "21: '21: 岐阜県',\n",
    "22: '22: 静岡県',\n",
    "23: '23: 愛知県',\n",
    "24: '24: 三重県',\n",
    "25: '25: 滋賀県',\n",
    "26: '26: 京都府',\n",
    "27: '27: 大阪府',\n",
    "28: '28: 兵庫県',\n",
    "29: '29: 奈良県',\n",
    "30: '30: 和歌山県',\n",
    "31: '31: 鳥取県',\n",
    "32: '32: 島根県',\n",
    "33: '33: 岡山県',\n",
    "34: '34: 広島県',\n",
    "35: '35: 山口県',\n",
    "36: '36: 徳島県',\n",
    "37: '37: 香川県',\n",
    "38: '38: 愛媛県',\n",
    "39: '39: 高知県',\n",
    "40: '40: 福岡県',\n",
    "41: '41: 佐賀県',\n",
    "42: '42: 長崎県',\n",
    "43: '43: 熊本県',\n",
    "44: '44: 大分県',\n",
    "45: '45: 宮崎県',\n",
    "46: '46: 鹿児島',\n",
    "47: '47: 沖縄県'\n",
    "}"
   ]
  },
  {
   "cell_type": "markdown",
   "metadata": {},
   "source": [
    "# offer data, only approved ones <a name=\"acc_offer_data\"></a>"
   ]
  },
  {
   "cell_type": "code",
   "execution_count": 8,
   "metadata": {},
   "outputs": [],
   "source": [
    "# select offers.id as offer_id, offers.campaign_id, offers.user_influencer_id, \n",
    "# date_format(offers.created_at, '%Y-%m-%d %H:%i:%s') as created_at, \n",
    "#  offers.status,\n",
    "# campaigns.pref, campaigns.project_type,\n",
    "# summary_user_influencers.instagram_follower_count\n",
    "# from offers\n",
    "# left join campaigns\n",
    "# on offers.campaign_id = campaigns.id\n",
    "# left join summary_user_influencers\n",
    "# on offers.user_influencer_id = summary_user_influencers.user_influencer_id\n",
    "# where offers.status in (10,20,21,30,31,15,16) \n",
    "# and (offers.created_at >= '2020-01-01')"
   ]
  },
  {
   "cell_type": "code",
   "execution_count": 9,
   "metadata": {},
   "outputs": [],
   "source": [
    "# df = pd.read_csv('1079958_2020_09_25_offers_campaigns.csv')\n",
    "df = pd.read_csv('New_Query_2020_10_22_offers_campaign_followercount.csv')"
   ]
  },
  {
   "cell_type": "code",
   "execution_count": 10,
   "metadata": {},
   "outputs": [
    {
     "data": {
      "text/html": [
       "<div>\n",
       "<style scoped>\n",
       "    .dataframe tbody tr th:only-of-type {\n",
       "        vertical-align: middle;\n",
       "    }\n",
       "\n",
       "    .dataframe tbody tr th {\n",
       "        vertical-align: top;\n",
       "    }\n",
       "\n",
       "    .dataframe thead th {\n",
       "        text-align: right;\n",
       "    }\n",
       "</style>\n",
       "<table border=\"1\" class=\"dataframe\">\n",
       "  <thead>\n",
       "    <tr style=\"text-align: right;\">\n",
       "      <th></th>\n",
       "      <th>offer_id</th>\n",
       "      <th>campaign_id</th>\n",
       "      <th>user_influencer_id</th>\n",
       "      <th>created_at</th>\n",
       "      <th>status</th>\n",
       "      <th>pref</th>\n",
       "      <th>project_type</th>\n",
       "      <th>instagram_follower_count</th>\n",
       "    </tr>\n",
       "  </thead>\n",
       "  <tbody>\n",
       "    <tr>\n",
       "      <td>0</td>\n",
       "      <td>81223</td>\n",
       "      <td>2648</td>\n",
       "      <td>57</td>\n",
       "      <td>2020-01-06 16:19:20</td>\n",
       "      <td>21</td>\n",
       "      <td>NaN</td>\n",
       "      <td>10</td>\n",
       "      <td>50220.0</td>\n",
       "    </tr>\n",
       "    <tr>\n",
       "      <td>1</td>\n",
       "      <td>86636</td>\n",
       "      <td>2727</td>\n",
       "      <td>57</td>\n",
       "      <td>2020-01-16 17:00:11</td>\n",
       "      <td>21</td>\n",
       "      <td>NaN</td>\n",
       "      <td>10</td>\n",
       "      <td>50220.0</td>\n",
       "    </tr>\n",
       "    <tr>\n",
       "      <td>2</td>\n",
       "      <td>98300</td>\n",
       "      <td>2979</td>\n",
       "      <td>57</td>\n",
       "      <td>2020-02-10 08:48:57</td>\n",
       "      <td>21</td>\n",
       "      <td>13.0</td>\n",
       "      <td>10</td>\n",
       "      <td>50220.0</td>\n",
       "    </tr>\n",
       "    <tr>\n",
       "      <td>3</td>\n",
       "      <td>102187</td>\n",
       "      <td>3121</td>\n",
       "      <td>57</td>\n",
       "      <td>2020-02-18 15:41:22</td>\n",
       "      <td>21</td>\n",
       "      <td>13.0</td>\n",
       "      <td>10</td>\n",
       "      <td>50220.0</td>\n",
       "    </tr>\n",
       "    <tr>\n",
       "      <td>4</td>\n",
       "      <td>82689</td>\n",
       "      <td>2662</td>\n",
       "      <td>98</td>\n",
       "      <td>2020-01-08 22:02:20</td>\n",
       "      <td>21</td>\n",
       "      <td>NaN</td>\n",
       "      <td>10</td>\n",
       "      <td>2304.0</td>\n",
       "    </tr>\n",
       "  </tbody>\n",
       "</table>\n",
       "</div>"
      ],
      "text/plain": [
       "   offer_id  campaign_id  user_influencer_id           created_at  status  \\\n",
       "0     81223         2648                  57  2020-01-06 16:19:20      21   \n",
       "1     86636         2727                  57  2020-01-16 17:00:11      21   \n",
       "2     98300         2979                  57  2020-02-10 08:48:57      21   \n",
       "3    102187         3121                  57  2020-02-18 15:41:22      21   \n",
       "4     82689         2662                  98  2020-01-08 22:02:20      21   \n",
       "\n",
       "   pref  project_type  instagram_follower_count  \n",
       "0   NaN            10                   50220.0  \n",
       "1   NaN            10                   50220.0  \n",
       "2  13.0            10                   50220.0  \n",
       "3  13.0            10                   50220.0  \n",
       "4   NaN            10                    2304.0  "
      ]
     },
     "execution_count": 10,
     "metadata": {},
     "output_type": "execute_result"
    }
   ],
   "source": [
    "df.head()"
   ]
  },
  {
   "cell_type": "code",
   "execution_count": 11,
   "metadata": {},
   "outputs": [],
   "source": [
    "df['created_at'] = pd.to_datetime(df['created_at'])"
   ]
  },
  {
   "cell_type": "code",
   "execution_count": 12,
   "metadata": {},
   "outputs": [
    {
     "data": {
      "text/plain": [
       "Timestamp('2020-01-01 00:07:02')"
      ]
     },
     "execution_count": 12,
     "metadata": {},
     "output_type": "execute_result"
    }
   ],
   "source": [
    "min(df['created_at'])"
   ]
  },
  {
   "cell_type": "code",
   "execution_count": 13,
   "metadata": {},
   "outputs": [
    {
     "data": {
      "text/plain": [
       "Timestamp('2020-10-22 08:35:34')"
      ]
     },
     "execution_count": 13,
     "metadata": {},
     "output_type": "execute_result"
    }
   ],
   "source": [
    "max(df['created_at'])"
   ]
  },
  {
   "cell_type": "code",
   "execution_count": 14,
   "metadata": {},
   "outputs": [
    {
     "data": {
      "text/plain": [
       "26786"
      ]
     },
     "execution_count": 14,
     "metadata": {},
     "output_type": "execute_result"
    }
   ],
   "source": [
    "len(df)"
   ]
  },
  {
   "cell_type": "code",
   "execution_count": 15,
   "metadata": {},
   "outputs": [],
   "source": [
    "df.dropna(subset = ['pref'], inplace = True)"
   ]
  },
  {
   "cell_type": "code",
   "execution_count": 16,
   "metadata": {},
   "outputs": [
    {
     "data": {
      "text/plain": [
       "15933"
      ]
     },
     "execution_count": 16,
     "metadata": {},
     "output_type": "execute_result"
    }
   ],
   "source": [
    "len(df)"
   ]
  },
  {
   "cell_type": "code",
   "execution_count": 78,
   "metadata": {},
   "outputs": [],
   "source": [
    "# - 10: モニター型\n",
    "# - 20: 投稿報酬型"
   ]
  },
  {
   "cell_type": "markdown",
   "metadata": {},
   "source": [
    "# Instagram follower count <a name=\"follower_count\"></a>"
   ]
  },
  {
   "cell_type": "code",
   "execution_count": 86,
   "metadata": {},
   "outputs": [],
   "source": [
    "# df_acc_inf_follower_count_by_pref = df.drop_duplicates(subset = ['pref','user_influencer_id'], keep = \"last\")\n",
    "# df_acc_inf_follower_count_by_pref = df_acc_inf_follower_count_by_pref[['offer_id', 'pref', 'user_influencer_id', 'instagram_follower_count']]\n",
    "\n",
    "# df_offers_per_campaign_by_pref = (df_all_offers.groupby(['pref','campaign_id'])['offer_id'].size()\n",
    "#                                   .reset_index()\n",
    "#                                   .rename(columns = {'offer_id':'offer_count'})\n",
    "#                                  )\n",
    "# df_offers_per_campaign_by_pref_average = (df_offers_per_campaign_by_pref.groupby('pref')['offer_count'].mean()\n",
    "#                                           .reset_index()\n",
    "#                                           .rename(columns = {'offer_count':'average_offer_count'})\n",
    "#                                          )"
   ]
  },
  {
   "cell_type": "code",
   "execution_count": 87,
   "metadata": {},
   "outputs": [
    {
     "data": {
      "text/html": [
       "<div>\n",
       "<style scoped>\n",
       "    .dataframe tbody tr th:only-of-type {\n",
       "        vertical-align: middle;\n",
       "    }\n",
       "\n",
       "    .dataframe tbody tr th {\n",
       "        vertical-align: top;\n",
       "    }\n",
       "\n",
       "    .dataframe thead th {\n",
       "        text-align: right;\n",
       "    }\n",
       "</style>\n",
       "<table border=\"1\" class=\"dataframe\">\n",
       "  <thead>\n",
       "    <tr style=\"text-align: right;\">\n",
       "      <th></th>\n",
       "      <th>offer_id</th>\n",
       "      <th>campaign_id</th>\n",
       "      <th>user_influencer_id</th>\n",
       "      <th>created_at</th>\n",
       "      <th>status</th>\n",
       "      <th>pref</th>\n",
       "      <th>project_type</th>\n",
       "      <th>instagram_follower_count</th>\n",
       "    </tr>\n",
       "  </thead>\n",
       "  <tbody>\n",
       "    <tr>\n",
       "      <td>2</td>\n",
       "      <td>98300</td>\n",
       "      <td>2979</td>\n",
       "      <td>57</td>\n",
       "      <td>2020-02-10 08:48:57</td>\n",
       "      <td>21</td>\n",
       "      <td>13.0</td>\n",
       "      <td>10</td>\n",
       "      <td>50220.0</td>\n",
       "    </tr>\n",
       "    <tr>\n",
       "      <td>3</td>\n",
       "      <td>102187</td>\n",
       "      <td>3121</td>\n",
       "      <td>57</td>\n",
       "      <td>2020-02-18 15:41:22</td>\n",
       "      <td>21</td>\n",
       "      <td>13.0</td>\n",
       "      <td>10</td>\n",
       "      <td>50220.0</td>\n",
       "    </tr>\n",
       "  </tbody>\n",
       "</table>\n",
       "</div>"
      ],
      "text/plain": [
       "   offer_id  campaign_id  user_influencer_id          created_at  status  \\\n",
       "2     98300         2979                  57 2020-02-10 08:48:57      21   \n",
       "3    102187         3121                  57 2020-02-18 15:41:22      21   \n",
       "\n",
       "   pref  project_type  instagram_follower_count  \n",
       "2  13.0            10                   50220.0  \n",
       "3  13.0            10                   50220.0  "
      ]
     },
     "execution_count": 87,
     "metadata": {},
     "output_type": "execute_result"
    }
   ],
   "source": [
    "df.head(2)"
   ]
  },
  {
   "cell_type": "code",
   "execution_count": 88,
   "metadata": {},
   "outputs": [],
   "source": [
    "df_acc_inf_follower_pref_ave = pd.pivot_table(df, \n",
    "                                              values = 'instagram_follower_count', \n",
    "                                              index = ['pref'],\n",
    "                                              columns = ['project_type'], \n",
    "                                              aggfunc = np.mean).rename(columns ={10: 'average_follower_count_free',\n",
    "                                                                                 20: 'average_follower_count_paid'})\n"
   ]
  },
  {
   "cell_type": "code",
   "execution_count": 89,
   "metadata": {
    "scrolled": true
   },
   "outputs": [
    {
     "data": {
      "text/html": [
       "<div>\n",
       "<style scoped>\n",
       "    .dataframe tbody tr th:only-of-type {\n",
       "        vertical-align: middle;\n",
       "    }\n",
       "\n",
       "    .dataframe tbody tr th {\n",
       "        vertical-align: top;\n",
       "    }\n",
       "\n",
       "    .dataframe thead th {\n",
       "        text-align: right;\n",
       "    }\n",
       "</style>\n",
       "<table border=\"1\" class=\"dataframe\">\n",
       "  <thead>\n",
       "    <tr style=\"text-align: right;\">\n",
       "      <th>project_type</th>\n",
       "      <th>average_follower_count_free</th>\n",
       "      <th>average_follower_count_paid</th>\n",
       "    </tr>\n",
       "    <tr>\n",
       "      <th>pref</th>\n",
       "      <th></th>\n",
       "      <th></th>\n",
       "    </tr>\n",
       "  </thead>\n",
       "  <tbody>\n",
       "    <tr>\n",
       "      <td>1.0</td>\n",
       "      <td>9619.192053</td>\n",
       "      <td>14453.5</td>\n",
       "    </tr>\n",
       "    <tr>\n",
       "      <td>3.0</td>\n",
       "      <td>27177.000000</td>\n",
       "      <td>NaN</td>\n",
       "    </tr>\n",
       "    <tr>\n",
       "      <td>4.0</td>\n",
       "      <td>16934.350000</td>\n",
       "      <td>NaN</td>\n",
       "    </tr>\n",
       "    <tr>\n",
       "      <td>8.0</td>\n",
       "      <td>9178.857143</td>\n",
       "      <td>52908.0</td>\n",
       "    </tr>\n",
       "    <tr>\n",
       "      <td>9.0</td>\n",
       "      <td>14818.638889</td>\n",
       "      <td>NaN</td>\n",
       "    </tr>\n",
       "  </tbody>\n",
       "</table>\n",
       "</div>"
      ],
      "text/plain": [
       "project_type  average_follower_count_free  average_follower_count_paid\n",
       "pref                                                                  \n",
       "1.0                           9619.192053                      14453.5\n",
       "3.0                          27177.000000                          NaN\n",
       "4.0                          16934.350000                          NaN\n",
       "8.0                           9178.857143                      52908.0\n",
       "9.0                          14818.638889                          NaN"
      ]
     },
     "execution_count": 89,
     "metadata": {},
     "output_type": "execute_result"
    }
   ],
   "source": [
    "df_acc_inf_follower_pref_ave.head()"
   ]
  },
  {
   "cell_type": "code",
   "execution_count": 90,
   "metadata": {},
   "outputs": [],
   "source": [
    "# calculate accepted offer count to see if average follower count is representative of the pref\n",
    "\n",
    "df_acc_inf_count_pref = pd.pivot_table(df, \n",
    "                                       values = 'offer_id', \n",
    "                                       index = ['pref'],\n",
    "                                       columns = ['project_type'], \n",
    "                                       aggfunc = 'count').rename(columns ={10: 'approved_count_free',\n",
    "                                                                                 20: 'approved_count_paid'})\n"
   ]
  },
  {
   "cell_type": "code",
   "execution_count": 91,
   "metadata": {
    "scrolled": true
   },
   "outputs": [
    {
     "data": {
      "text/html": [
       "<div>\n",
       "<style scoped>\n",
       "    .dataframe tbody tr th:only-of-type {\n",
       "        vertical-align: middle;\n",
       "    }\n",
       "\n",
       "    .dataframe tbody tr th {\n",
       "        vertical-align: top;\n",
       "    }\n",
       "\n",
       "    .dataframe thead th {\n",
       "        text-align: right;\n",
       "    }\n",
       "</style>\n",
       "<table border=\"1\" class=\"dataframe\">\n",
       "  <thead>\n",
       "    <tr style=\"text-align: right;\">\n",
       "      <th>project_type</th>\n",
       "      <th>approved_count_free</th>\n",
       "      <th>approved_count_paid</th>\n",
       "    </tr>\n",
       "    <tr>\n",
       "      <th>pref</th>\n",
       "      <th></th>\n",
       "      <th></th>\n",
       "    </tr>\n",
       "  </thead>\n",
       "  <tbody>\n",
       "    <tr>\n",
       "      <td>1.0</td>\n",
       "      <td>151.0</td>\n",
       "      <td>2.0</td>\n",
       "    </tr>\n",
       "    <tr>\n",
       "      <td>3.0</td>\n",
       "      <td>1.0</td>\n",
       "      <td>NaN</td>\n",
       "    </tr>\n",
       "    <tr>\n",
       "      <td>4.0</td>\n",
       "      <td>20.0</td>\n",
       "      <td>NaN</td>\n",
       "    </tr>\n",
       "    <tr>\n",
       "      <td>8.0</td>\n",
       "      <td>7.0</td>\n",
       "      <td>2.0</td>\n",
       "    </tr>\n",
       "    <tr>\n",
       "      <td>9.0</td>\n",
       "      <td>36.0</td>\n",
       "      <td>NaN</td>\n",
       "    </tr>\n",
       "  </tbody>\n",
       "</table>\n",
       "</div>"
      ],
      "text/plain": [
       "project_type  approved_count_free  approved_count_paid\n",
       "pref                                                  \n",
       "1.0                         151.0                  2.0\n",
       "3.0                           1.0                  NaN\n",
       "4.0                          20.0                  NaN\n",
       "8.0                           7.0                  2.0\n",
       "9.0                          36.0                  NaN"
      ]
     },
     "execution_count": 91,
     "metadata": {},
     "output_type": "execute_result"
    }
   ],
   "source": [
    "df_acc_inf_count_pref.head()"
   ]
  },
  {
   "cell_type": "code",
   "execution_count": 92,
   "metadata": {},
   "outputs": [],
   "source": [
    "df_acc_inf_pref = (df_acc_inf_count_pref.merge(df_acc_inf_follower_pref_ave,\n",
    "                                             how = 'left',\n",
    "                                             left_on = df_acc_inf_count_pref.index,\n",
    "                                             right_on = df_acc_inf_follower_pref_ave.index)\n",
    "                   .rename(columns = {'key_0':'pref'})\n",
    "                  )"
   ]
  },
  {
   "cell_type": "code",
   "execution_count": 93,
   "metadata": {},
   "outputs": [],
   "source": [
    "df_acc_inf_pref['pref_kanji'] = df_acc_inf_pref['pref'].map(map_pref2)"
   ]
  },
  {
   "cell_type": "code",
   "execution_count": 94,
   "metadata": {},
   "outputs": [
    {
     "data": {
      "text/html": [
       "<div>\n",
       "<style scoped>\n",
       "    .dataframe tbody tr th:only-of-type {\n",
       "        vertical-align: middle;\n",
       "    }\n",
       "\n",
       "    .dataframe tbody tr th {\n",
       "        vertical-align: top;\n",
       "    }\n",
       "\n",
       "    .dataframe thead th {\n",
       "        text-align: right;\n",
       "    }\n",
       "</style>\n",
       "<table border=\"1\" class=\"dataframe\">\n",
       "  <thead>\n",
       "    <tr style=\"text-align: right;\">\n",
       "      <th>project_type</th>\n",
       "      <th>pref</th>\n",
       "      <th>approved_count_free</th>\n",
       "      <th>approved_count_paid</th>\n",
       "      <th>average_follower_count_free</th>\n",
       "      <th>average_follower_count_paid</th>\n",
       "      <th>pref_kanji</th>\n",
       "    </tr>\n",
       "  </thead>\n",
       "  <tbody>\n",
       "    <tr>\n",
       "      <td>0</td>\n",
       "      <td>1.0</td>\n",
       "      <td>151.0</td>\n",
       "      <td>2.0</td>\n",
       "      <td>9619.192053</td>\n",
       "      <td>14453.5</td>\n",
       "      <td>1: 北海道</td>\n",
       "    </tr>\n",
       "    <tr>\n",
       "      <td>1</td>\n",
       "      <td>3.0</td>\n",
       "      <td>1.0</td>\n",
       "      <td>NaN</td>\n",
       "      <td>27177.000000</td>\n",
       "      <td>NaN</td>\n",
       "      <td>3: 岩手県</td>\n",
       "    </tr>\n",
       "  </tbody>\n",
       "</table>\n",
       "</div>"
      ],
      "text/plain": [
       "project_type  pref  approved_count_free  approved_count_paid  \\\n",
       "0              1.0                151.0                  2.0   \n",
       "1              3.0                  1.0                  NaN   \n",
       "\n",
       "project_type  average_follower_count_free  average_follower_count_paid  \\\n",
       "0                             9619.192053                      14453.5   \n",
       "1                            27177.000000                          NaN   \n",
       "\n",
       "project_type pref_kanji  \n",
       "0                1: 北海道  \n",
       "1                3: 岩手県  "
      ]
     },
     "execution_count": 94,
     "metadata": {},
     "output_type": "execute_result"
    }
   ],
   "source": [
    "df_acc_inf_pref.head(2)"
   ]
  },
  {
   "cell_type": "markdown",
   "metadata": {},
   "source": [
    "### change average_follower_count to 0 if only 1 accepted influencer in that pref"
   ]
  },
  {
   "cell_type": "code",
   "execution_count": 95,
   "metadata": {},
   "outputs": [],
   "source": [
    "df_acc_inf_pref.loc[(df_acc_inf_pref.approved_count_free < 2),\n",
    "                                          'average_follower_count_free'] = 0\n",
    "\n",
    "df_acc_inf_pref.loc[(df_acc_inf_pref.approved_count_paid < 2),\n",
    "                                          'average_follower_count_paid'] = 0"
   ]
  },
  {
   "cell_type": "code",
   "execution_count": 128,
   "metadata": {},
   "outputs": [],
   "source": [
    "df_acc_inf_pref.fillna(0, inplace = True)"
   ]
  },
  {
   "cell_type": "code",
   "execution_count": 146,
   "metadata": {},
   "outputs": [],
   "source": [
    "df_acc_inf_pref['pref'] = df_acc_inf_pref['pref'].astype(int)"
   ]
  },
  {
   "cell_type": "code",
   "execution_count": 187,
   "metadata": {},
   "outputs": [
    {
     "data": {
      "text/html": [
       "<div>\n",
       "<style scoped>\n",
       "    .dataframe tbody tr th:only-of-type {\n",
       "        vertical-align: middle;\n",
       "    }\n",
       "\n",
       "    .dataframe tbody tr th {\n",
       "        vertical-align: top;\n",
       "    }\n",
       "\n",
       "    .dataframe thead th {\n",
       "        text-align: right;\n",
       "    }\n",
       "</style>\n",
       "<table border=\"1\" class=\"dataframe\">\n",
       "  <thead>\n",
       "    <tr style=\"text-align: right;\">\n",
       "      <th>project_type</th>\n",
       "      <th>pref</th>\n",
       "      <th>approved_count_free</th>\n",
       "      <th>approved_count_paid</th>\n",
       "      <th>average_follower_count_free</th>\n",
       "      <th>average_follower_count_paid</th>\n",
       "      <th>pref_kanji</th>\n",
       "    </tr>\n",
       "  </thead>\n",
       "  <tbody>\n",
       "    <tr>\n",
       "      <td>0</td>\n",
       "      <td>1</td>\n",
       "      <td>151.0</td>\n",
       "      <td>2.0</td>\n",
       "      <td>9619.192053</td>\n",
       "      <td>14453.5</td>\n",
       "      <td>1: 北海道</td>\n",
       "    </tr>\n",
       "    <tr>\n",
       "      <td>1</td>\n",
       "      <td>3</td>\n",
       "      <td>1.0</td>\n",
       "      <td>0.0</td>\n",
       "      <td>0.000000</td>\n",
       "      <td>0.0</td>\n",
       "      <td>3: 岩手県</td>\n",
       "    </tr>\n",
       "    <tr>\n",
       "      <td>2</td>\n",
       "      <td>4</td>\n",
       "      <td>20.0</td>\n",
       "      <td>0.0</td>\n",
       "      <td>16934.350000</td>\n",
       "      <td>0.0</td>\n",
       "      <td>4: 宮城県</td>\n",
       "    </tr>\n",
       "    <tr>\n",
       "      <td>3</td>\n",
       "      <td>8</td>\n",
       "      <td>7.0</td>\n",
       "      <td>2.0</td>\n",
       "      <td>9178.857143</td>\n",
       "      <td>52908.0</td>\n",
       "      <td>8: 茨城県</td>\n",
       "    </tr>\n",
       "    <tr>\n",
       "      <td>4</td>\n",
       "      <td>9</td>\n",
       "      <td>36.0</td>\n",
       "      <td>0.0</td>\n",
       "      <td>14818.638889</td>\n",
       "      <td>0.0</td>\n",
       "      <td>9: 栃木県</td>\n",
       "    </tr>\n",
       "  </tbody>\n",
       "</table>\n",
       "</div>"
      ],
      "text/plain": [
       "project_type  pref  approved_count_free  approved_count_paid  \\\n",
       "0                1                151.0                  2.0   \n",
       "1                3                  1.0                  0.0   \n",
       "2                4                 20.0                  0.0   \n",
       "3                8                  7.0                  2.0   \n",
       "4                9                 36.0                  0.0   \n",
       "\n",
       "project_type  average_follower_count_free  average_follower_count_paid  \\\n",
       "0                             9619.192053                      14453.5   \n",
       "1                                0.000000                          0.0   \n",
       "2                            16934.350000                          0.0   \n",
       "3                             9178.857143                      52908.0   \n",
       "4                            14818.638889                          0.0   \n",
       "\n",
       "project_type pref_kanji  \n",
       "0                1: 北海道  \n",
       "1                3: 岩手県  \n",
       "2                4: 宮城県  \n",
       "3                8: 茨城県  \n",
       "4                9: 栃木県  "
      ]
     },
     "execution_count": 187,
     "metadata": {},
     "output_type": "execute_result"
    }
   ],
   "source": [
    "df_acc_inf_pref.head()"
   ]
  },
  {
   "cell_type": "code",
   "execution_count": 184,
   "metadata": {},
   "outputs": [
    {
     "data": {
      "image/png": "[encoded data removed]",
      "text/plain": [
       "<Figure size 1296x432 with 1 Axes>"
      ]
     },
     "metadata": {
      "needs_background": "light"
     },
     "output_type": "display_data"
    }
   ],
   "source": [
    "ind = np.arange(len(df_acc_inf_pref))\n",
    "width = 0.4\n",
    "\n",
    "fig, ax1 = plt.subplots(figsize=(18, 6)) \n",
    "\n",
    "# free campaigns\n",
    "bar1 = ax1.bar(ind, \n",
    "        df_acc_inf_pref['average_follower_count_free'],\n",
    "        width = width,\n",
    "        align='edge',\n",
    "       label = 'モニター型CP採用されたインフルエンサーの平均フォロワー数', color = 'saddlebrown', alpha = 0.8)\n",
    "\n",
    "counter = 0\n",
    "for bar in bar1:\n",
    "    yval = bar.get_height()\n",
    "    approved_count = df_acc_inf_pref.iloc[counter].loc['approved_count_free']\n",
    "    approved_count = approved_count.astype(int)\n",
    "    plt.text(bar.get_x(), yval + 1000, approved_count, fontsize = 13, ha = 'center', color = 'saddlebrown') # , rotation = 10\n",
    "    counter += 1\n",
    "\n",
    "# paid campaigns\n",
    "bar2 = ax1.bar(ind+width, \n",
    "        df_acc_inf_pref['average_follower_count_paid'],\n",
    "        width = width,\n",
    "        align='edge',\n",
    "       label = '投稿報酬型CP採用されたインフルエンサーの平均フォロワー数', color = 'orange', alpha = 0.8)\n",
    "\n",
    "counter = 0\n",
    "for bar in bar2:\n",
    "    yval = bar.get_height()\n",
    "    approved_count = df_acc_inf_pref.iloc[counter].loc['approved_count_paid']\n",
    "    approved_count = approved_count.astype(int)\n",
    "    plt.text(bar.get_x(), yval + 2000, approved_count, fontsize = 13, ha = 'left', color = 'darkorange') # , rotation = 10\n",
    "    counter += 1\n",
    "\n",
    "ax1.legend(bbox_to_anchor=(1,1), loc=\"upper right\", fontsize = 15)\n",
    "\n",
    "plt.xlim(-0.5,len(df_acc_inf_pref))\n",
    "ax1.set_xticks(ind + width)\n",
    "ax1.set_xticklabels(df_acc_inf_pref['pref_kanji'],\n",
    "                    rotation = 90,\n",
    "                      ha = 'center', fontsize = 15)\n",
    "\n",
    "plt.ylim(0,100000)\n",
    "plt.yticks(fontsize = 14)\n",
    "ylabels = ['{:,.0f}'.format(y) + 'K' for y in ax1.get_yticks()/1000]\n",
    "ax1.set_yticklabels(ylabels)\n",
    "\n",
    "ax1.set_ylabel('平均フォロワー数', fontsize = 18, labelpad = 5)\n",
    "\n",
    "plt.show()"
   ]
  },
  {
   "cell_type": "code",
   "execution_count": 186,
   "metadata": {},
   "outputs": [],
   "source": [
    "# fig, ax1 = plt.subplots(figsize=(18, 6)) \n",
    "\n",
    "# bars = ax1.bar(ind, \n",
    "#         df_acc_inf_pref['average_follower_count_free'],\n",
    "#         width = 0.5,\n",
    "#         align='center',\n",
    "#         label = 'モニター型CP採用されたインフルエンサーの平均フォロワー数', \n",
    "#         color = 'saddlebrown', \n",
    "#         alpha = 0.6)\n",
    "\n",
    "# # access the bar attributes to place the text in the appropriate location\n",
    "# counter = 0\n",
    "# for bar in bars:\n",
    "#     yval = bar.get_height()\n",
    "#     approved_count = df_acc_inf_pref.iloc[counter].loc['approved_count_free']\n",
    "#     approved_count = approved_count.astype(int)\n",
    "#     plt.text(bar.get_x(), yval + 1000, approved_count, fontsize = 13)\n",
    "#     counter += 1\n",
    "\n",
    "# ax1.legend(bbox_to_anchor = (1,1), loc = \"upper right\", fontsize = 15)\n",
    "\n",
    "# ax1.set_ylabel('平均フォロワー数', fontsize = 18, labelpad = 10)\n",
    "# plt.xlim(-0.5,len(df_acc_inf_pref))\n",
    "# ax1.set_xticks(ind)\n",
    "# ax1.set_xticklabels(df_acc_inf_pref['pref_kanji'], rotation = 90,\n",
    "#                       ha = 'center', fontsize = 15)\n",
    "\n",
    "# plt.ylim(0,100000)\n",
    "# plt.yticks(fontsize = 14)\n",
    "# ylabels = ['{:,.0f}'.format(y) + 'K' for y in ax1.get_yticks()/1000]\n",
    "# ax1.set_yticklabels(ylabels)\n",
    "\n",
    "# plt.show()"
   ]
  },
  {
   "cell_type": "code",
   "execution_count": 185,
   "metadata": {},
   "outputs": [],
   "source": [
    "# fig, ax1 = plt.subplots(figsize=(18, 6)) \n",
    "\n",
    "# bars = ax1.bar(ind, \n",
    "#         df_acc_inf_pref['average_follower_count_paid'],\n",
    "#         width = 0.5,\n",
    "#         align='center',\n",
    "#         label = '投稿報酬型CP採用されたインフルエンサーの平均フォロワー数', \n",
    "#         color = 'orange', \n",
    "#         )\n",
    "\n",
    "# counter = 0\n",
    "# for bar in bars:\n",
    "#     yval = bar.get_height()\n",
    "#     approved_count = df_acc_inf_pref.iloc[counter].loc['approved_count_paid']\n",
    "#     approved_count = approved_count.astype(int)\n",
    "#     plt.text(bar.get_x(), yval+1000, approved_count, fontsize = 13)\n",
    "#     counter += 1\n",
    "\n",
    "# ax1.legend(bbox_to_anchor = (1,1), loc = \"upper right\", fontsize = 15)\n",
    "\n",
    "# ax1.set_ylabel('平均フォロワー数', fontsize = 18, labelpad = 10)\n",
    "# plt.xlim(-0.5,len(df_acc_inf_pref))\n",
    "# ax1.set_xticks(ind)\n",
    "# ax1.set_xticklabels(df_acc_inf_pref['pref_kanji'], rotation = 90,\n",
    "#                       ha = 'center', fontsize = 15)\n",
    "\n",
    "# plt.ylim(0,100000)\n",
    "# plt.yticks(fontsize = 14)\n",
    "# ylabels = ['{:,.0f}'.format(y) + 'K' for y in ax1.get_yticks()/1000]\n",
    "# ax1.set_yticklabels(ylabels)\n",
    "\n",
    "# plt.show()"
   ]
  },
  {
   "cell_type": "code",
   "execution_count": null,
   "metadata": {},
   "outputs": [],
   "source": []
  },
  {
   "cell_type": "code",
   "execution_count": null,
   "metadata": {},
   "outputs": [],
   "source": []
  },
  {
   "cell_type": "code",
   "execution_count": null,
   "metadata": {},
   "outputs": [],
   "source": []
  },
  {
   "cell_type": "code",
   "execution_count": null,
   "metadata": {},
   "outputs": [],
   "source": []
  },
  {
   "cell_type": "code",
   "execution_count": null,
   "metadata": {},
   "outputs": [],
   "source": []
  },
  {
   "cell_type": "code",
   "execution_count": null,
   "metadata": {},
   "outputs": [],
   "source": []
  },
  {
   "cell_type": "code",
   "execution_count": null,
   "metadata": {},
   "outputs": [],
   "source": []
  },
  {
   "cell_type": "code",
   "execution_count": null,
   "metadata": {},
   "outputs": [],
   "source": []
  },
  {
   "cell_type": "code",
   "execution_count": null,
   "metadata": {},
   "outputs": [],
   "source": []
  }
 ],
 "metadata": {
  "kernelspec": {
   "display_name": "generalenvKernel",
   "language": "python",
   "name": "generalenvkernel"
  },
  "language_info": {
   "codemirror_mode": {
    "name": "ipython",
    "version": 3
   },
   "file_extension": ".py",
   "mimetype": "text/x-python",
   "name": "python",
   "nbconvert_exporter": "python",
   "pygments_lexer": "ipython3",
   "version": "3.7.1"
  }
 },
 "nbformat": 4,
 "nbformat_minor": 2
}
